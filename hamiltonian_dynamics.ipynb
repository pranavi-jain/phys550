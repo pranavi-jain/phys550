{
 "cells": [
  {
   "cell_type": "markdown",
   "metadata": {},
   "source": [
    "# Appendix B"
   ]
  },
  {
   "cell_type": "markdown",
   "metadata": {},
   "source": [
    "## Evolution of Bell State for given System Hamiltonian on IBM Hardware\n",
    "Similar to Appendix A, we create a circuit using Qiskit to initialize a Bell pair. Then, we add the system Hamiltonian to the circuit using qiskit's [HamiltonianGate](https://docs.quantum.ibm.com/api/qiskit/qiskit.circuit.library.HamiltonianGate.) function. This gate resolves to a unitary $U(t) = e^{(-iHt)}$ that evolves in time $t$. We measure this circuit over arbitrary time, and obtain the resulting density matrices by performing **state tomography**. Finally, we compute and plot the **concurrence** for all resulting states in time $t_{0}$ to $t$.\n",
    "* Our intial state is Bell State $\\beta_{11} = (\\ket{10} - \\ket{01})/\\sqrt(2)$.\n",
    "* The system Hamiltonian for two qubits interacting with each other is given by $H_{S} = (\\omega_{0}/2) \\sigma_{z}^{(1)} + (\\omega_{0}/2) \\sigma_{z}^{(2)} + \\Omega(\\sigma_{+}^{(1)}\\sigma_{-}^{(2)} + \\sigma_{-}^{(1)}\\sigma_{+}^{(2)})$"
   ]
  },
  {
   "cell_type": "markdown",
   "metadata": {},
   "source": [
    "### Imports and Saving Default Account"
   ]
  },
  {
   "cell_type": "code",
   "execution_count": null,
   "metadata": {},
   "outputs": [],
   "source": [
    "import numpy as np\n",
    "import pandas as pd\n",
    "import matplotlib.pyplot as plt\n",
    "from utils import execute_job\n",
    "\n",
    "from config import api_key\n",
    "from qiskit import QuantumCircuit\n",
    "from qiskit_ibm_runtime import QiskitRuntimeService, Session\n",
    "from qiskit.quantum_info import DensityMatrix,SparsePauliOp, concurrence\n",
    "from qiskit.visualization import (\n",
    "    plot_bloch_multivector,\n",
    "    plot_histogram,\n",
    "    plot_state_qsphere,\n",
    "    plot_state_city\n",
    ")\n",
    "from qiskit_experiments.library import StateTomography\n",
    "from qiskit.compiler import transpile\n",
    "from qiskit.providers.fake_provider import FakeQasmBackend, GenericBackendV2\n",
    "from qiskit.circuit.library import HamiltonianGate\n"
   ]
  },
  {
   "cell_type": "code",
   "execution_count": null,
   "metadata": {},
   "outputs": [],
   "source": [
    "## Save an IBM Quantum account as your default account, and Load saved credentials\n",
    "\n",
    "QiskitRuntimeService.save_account(\n",
    "    channel=\"ibm_quantum\",\n",
    "    instance=\"usc/phys550/phys550\",\n",
    "    token=api_key,\n",
    "    set_as_default=True,\n",
    "    overwrite=True,\n",
    ")\n",
    "service = QiskitRuntimeService()"
   ]
  },
  {
   "cell_type": "markdown",
   "metadata": {},
   "source": [
    "### Creating the Quantum Circuit"
   ]
  },
  {
   "cell_type": "markdown",
   "metadata": {},
   "source": [
    "#### Generating an Entangled Pair - Bell State $\\beta_{11}$"
   ]
  },
  {
   "cell_type": "code",
   "execution_count": null,
   "metadata": {},
   "outputs": [],
   "source": [
    "## Quantum circuit for generating Bell state (11)\n",
    "\n",
    "circ = QuantumCircuit(2)\n",
    "circ.x([0, 1])  # Apply X gate to the second qubit\n",
    "circ.h(0)  # Apply Hadamard gate to the first qubit\n",
    "circ.cx(0, 1)  # Apply CNOT gate with the first qubit as control and the second as target\n",
    "circ.barrier()\n",
    "\n",
    "# Storing the intitial bell state\n",
    "initial_state = DensityMatrix.from_instruction(circ)\n",
    "\n",
    "print('Circuit for generating Bell State \\u03B2\\u2081\\u2081:')\n",
    "circ.draw('mpl')"
   ]
  },
  {
   "cell_type": "code",
   "execution_count": null,
   "metadata": {},
   "outputs": [],
   "source": [
    "## Print qSpheres for Bell state (11)\n",
    "\n",
    "print('Visualization of Initial State \\u03B2\\u2081\\u2081 at time = t\\u2080:')\n",
    "plot_state_qsphere(state=initial_state, figsize=(5, 5))"
   ]
  },
  {
   "cell_type": "markdown",
   "metadata": {},
   "source": [
    "#### Appending System Hamiltonian $H_{S}$ to the Circuit"
   ]
  },
  {
   "cell_type": "code",
   "execution_count": null,
   "metadata": {},
   "outputs": [],
   "source": [
    "## Define Hamiltonian components using Pauli matrices\n",
    "\n",
    "omega = 1       # Energy level of the qubits\n",
    "bomega = 0.1    # Coupling strength\n",
    "t = 1        # Time for evolution\n",
    "\n",
    "# Define H_S and H_I with proper scalar multiplication\n",
    "H_S = np.array([[2,0,0,0],[0,0,0,0],[0,0,0,0],[0,0,0,-2]]) * (omega)\n",
    "H_I = np.array([[0,0,0,0],[0,0,2,0],[0,2,0,0],[0,0,0,0]]) * (bomega/2)\n",
    "\n",
    "# Sum H_S and H_I to get the total Hamiltonian H\n",
    "H = H_S + H_I\n",
    "print('Hamiltonian: \\n' + str(H))\n",
    "\n",
    "# Apply Hamiltonian Gate\n",
    "hamiltonian_gate = HamiltonianGate(H, t)\n",
    "qc = circ.copy()\n",
    "qc.append(hamiltonian_gate, [0, 1])\n",
    "qc.barrier()\n",
    "print('\\nCircuit with Hamiltonian:\\n' + str(qc.draw()))\n",
    "print('\\nDecomposed circuit:')\n",
    "qc.decompose(reps=2).draw('mpl')"
   ]
  },
  {
   "cell_type": "markdown",
   "metadata": {},
   "source": [
    "### Running circuit for time $t$"
   ]
  },
  {
   "cell_type": "markdown",
   "metadata": {},
   "source": [
    "#### State tomography on IBM Fake Backend (Noisy)"
   ]
  },
  {
   "cell_type": "code",
   "execution_count": null,
   "metadata": {},
   "outputs": [],
   "source": [
    "## Measuring hamiltonian circuit for arbitrary time\n",
    "\n",
    "noise_list = []\n",
    "shots = 100\n",
    "time = np.arange(1,30,2,dtype=float)\n",
    "backend = GenericBackendV2(num_qubits=2)\n",
    "# backend = service.backend(\"ibmq_qasm_simulator\")\n",
    "\n",
    "for t in time:\n",
    "    hamiltonian_gate = HamiltonianGate(H, t)\n",
    "    temp = circ.copy()\n",
    "    temp.append(hamiltonian_gate, [0, 1])\n",
    "    temp.barrier()\n",
    "    qstexp = StateTomography(qc)\n",
    "    qstdata = qstexp.run(backend).block_for_results() # In StateTomography, each circuit runs 9 times\n",
    "    result = qstdata.analysis_results(\"state\").value\n",
    "    noise_list.append(\n",
    "        {\n",
    "            \"time\": t,\n",
    "            \"tomo_result\": qstdata,\n",
    "            \"density_matrix\": result\n",
    "        }\n",
    "    )\n",
    "    \n",
    "fake_data = pd.DataFrame(noise_list)"
   ]
  },
  {
   "cell_type": "markdown",
   "metadata": {},
   "source": [
    "#### State Tomography Jobs on Real IBM Backend"
   ]
  },
  {
   "cell_type": "code",
   "execution_count": null,
   "metadata": {},
   "outputs": [],
   "source": [
    "service.backends()"
   ]
  },
  {
   "cell_type": "code",
   "execution_count": null,
   "metadata": {},
   "outputs": [],
   "source": [
    "## Measuring hamiltonian circuit for arbitrary time on real IBM hardware\n",
    "\n",
    "data_list = []\n",
    "shots = 100\n",
    "time = np.arange(1,30,2,dtype=float)\n",
    "# backend = service.backend(\"ibm_torino\")\n",
    "\n",
    "for t in time:\n",
    "    hamiltonian_gate = HamiltonianGate(H, t)\n",
    "    temp = circ.copy()\n",
    "    temp.append(hamiltonian_gate, [0, 1])\n",
    "    temp.barrier()\n",
    "    qstexp = StateTomography(qc)\n",
    "    qstdata = qstexp.run(backend).block_for_results() # In StateTomography, each circuit runs 9 times\n",
    "    result = qstdata.analysis_results(\"state\").value\n",
    "    data_list.append(\n",
    "        {\n",
    "            \"time\": t,\n",
    "            \"tomo_result\": qstdata,\n",
    "            \"density_matrix\": result\n",
    "        }\n",
    "    )\n",
    "    \n",
    "data = pd.DataFrame(data_list)"
   ]
  },
  {
   "cell_type": "markdown",
   "metadata": {},
   "source": [
    "### Compute Concurrence and Plot the Results - Concurrence vs. Time"
   ]
  },
  {
   "cell_type": "code",
   "execution_count": null,
   "metadata": {},
   "outputs": [],
   "source": [
    "time = np.arange(1,30,2,dtype=float)"
   ]
  },
  {
   "cell_type": "code",
   "execution_count": null,
   "metadata": {},
   "outputs": [],
   "source": [
    "### Compute Concurrence and Plot the Results\n",
    "fake_conc = []\n",
    "conc_list = []\n",
    "times = np.concatenate(([0.0], time))\n",
    "\n",
    "# Concurrence of all states from fake noisy backend\n",
    "fake_conc.append(concurrence(initial_state))\n",
    "for dm in fake_data[\"density_matrix\"]:\n",
    "    fake_conc.append(concurrence(dm))\n",
    "print('Concurrences from fake backend: ' + str(fake_conc))\n",
    "\n",
    "\n",
    "# Concurrence of all resulting states from real hardware\n",
    "# conc_list.append(concurrence(initial_state))\n",
    "# for dm in data[\"density_matrix\"]:\n",
    "#     conc_list.append(concurrence(dm))\n",
    "# print('Concurrences from IBM hardware' + str(conc_list))\n",
    "final_state = dm\n",
    "\n",
    "# Plotting Concurrence vs Circuit Depth\n",
    "\n",
    "plt.title(\"Concurrence vs Circuit Depth (Initial State - \\u03B2\\u2081\\u2081)\")\n",
    "plt.xlabel(\"Time $t$ (quantum seconds)\")\n",
    "plt.ylabel(\"Concurrence\")\n",
    "# plt.plot(depths, conc_list, marker='.', label='ibm_torino')\n",
    "plt.plot(times, fake_conc, marker='.', label='GenericBackendV2')\n",
    "plt.grid(True)\n",
    "plt.legend()\n",
    "plt.show()"
   ]
  },
  {
   "cell_type": "code",
   "execution_count": null,
   "metadata": {},
   "outputs": [],
   "source": [
    "## Print qSpheres for final state after time t\n",
    "\n",
    "print(\"Visualization of State after time 't':\")\n",
    "plot_state_qsphere(state=final_state, figsize=(5, 5))"
   ]
  },
  {
   "cell_type": "code",
   "execution_count": null,
   "metadata": {},
   "outputs": [],
   "source": [
    "## Visualize Density Matrice of final state\n",
    "\n",
    "plot_state_city(final_state, title=\"Density Matrix for Final State after time 't'\")"
   ]
  },
  {
   "cell_type": "code",
   "execution_count": null,
   "metadata": {},
   "outputs": [],
   "source": []
  }
 ],
 "metadata": {
  "kernelspec": {
   "display_name": "venv",
   "language": "python",
   "name": "python3"
  },
  "language_info": {
   "codemirror_mode": {
    "name": "ipython",
    "version": 3
   },
   "file_extension": ".py",
   "mimetype": "text/x-python",
   "name": "python",
   "nbconvert_exporter": "python",
   "pygments_lexer": "ipython3",
   "version": "3.12.3"
  }
 },
 "nbformat": 4,
 "nbformat_minor": 2
}
