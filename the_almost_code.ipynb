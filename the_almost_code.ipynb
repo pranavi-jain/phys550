{
 "cells": [
  {
   "cell_type": "code",
   "execution_count": 3,
   "metadata": {},
   "outputs": [
    {
     "name": "stderr",
     "output_type": "stream",
     "text": [
      "/var/folders/s8/49z4mhw56f1gk77hx70jgjsw0000gn/T/ipykernel_28442/3732285502.py:46: DeprecationWarning: Circuits that do not match the target hardware definition will no longer be supported after March 1, 2024. See the transpilation documentation (https://docs.quantum.ibm.com/transpile) for instructions to transform circuits and the primitive examples (https://docs.quantum.ibm.com/run/primitives-examples) to see this coupled with operator transformations.\n",
      "  job = sampler.run(\n"
     ]
    },
    {
     "ename": "RuntimeJobFailureError",
     "evalue": "\"Unable to retrieve job result. Unexpected program input parameter 'observable'.\"",
     "output_type": "error",
     "traceback": [
      "\u001b[0;31m---------------------------------------------------------------------------\u001b[0m",
      "\u001b[0;31mRuntimeJobFailureError\u001b[0m                    Traceback (most recent call last)",
      "Cell \u001b[0;32mIn[3], line 52\u001b[0m\n\u001b[1;32m     45\u001b[0m transpiled_circuit \u001b[38;5;241m=\u001b[39m transpile(circuit, backend\u001b[38;5;241m=\u001b[39mbackend)\n\u001b[1;32m     46\u001b[0m job \u001b[38;5;241m=\u001b[39m sampler\u001b[38;5;241m.\u001b[39mrun(\n\u001b[1;32m     47\u001b[0m     circuits\u001b[38;5;241m=\u001b[39mtranspiled_circuit,\n\u001b[1;32m     48\u001b[0m     observable\u001b[38;5;241m=\u001b[39mH,\n\u001b[1;32m     49\u001b[0m     shots\u001b[38;5;241m=\u001b[39m\u001b[38;5;241m1024\u001b[39m\n\u001b[1;32m     50\u001b[0m )\n\u001b[0;32m---> 52\u001b[0m result \u001b[38;5;241m=\u001b[39m \u001b[43mjob\u001b[49m\u001b[38;5;241;43m.\u001b[39;49m\u001b[43mresult\u001b[49m\u001b[43m(\u001b[49m\u001b[43m)\u001b[49m\n\u001b[1;32m     53\u001b[0m \u001b[38;5;66;03m# Placeholder for concurrence computation; replace with actual computation\u001b[39;00m\n\u001b[1;32m     54\u001b[0m concurrence_value \u001b[38;5;241m=\u001b[39m np\u001b[38;5;241m.\u001b[39mrandom\u001b[38;5;241m.\u001b[39mrand()  \u001b[38;5;66;03m# Implement actual concurrence calculation\u001b[39;00m\n",
      "File \u001b[0;32m~/QuantumPython/.venv/lib/python3.12/site-packages/qiskit_ibm_runtime/runtime_job.py:223\u001b[0m, in \u001b[0;36mRuntimeJob.result\u001b[0;34m(self, timeout, decoder)\u001b[0m\n\u001b[1;32m    221\u001b[0m     \u001b[38;5;28;01mif\u001b[39;00m \u001b[38;5;28mself\u001b[39m\u001b[38;5;241m.\u001b[39m_reason \u001b[38;5;241m==\u001b[39m \u001b[38;5;124m\"\u001b[39m\u001b[38;5;124mRAN TOO LONG\u001b[39m\u001b[38;5;124m\"\u001b[39m:\n\u001b[1;32m    222\u001b[0m         \u001b[38;5;28;01mraise\u001b[39;00m RuntimeJobMaxTimeoutError(error_message)\n\u001b[0;32m--> 223\u001b[0m     \u001b[38;5;28;01mraise\u001b[39;00m RuntimeJobFailureError(\u001b[38;5;124mf\u001b[39m\u001b[38;5;124m\"\u001b[39m\u001b[38;5;124mUnable to retrieve job result. \u001b[39m\u001b[38;5;132;01m{\u001b[39;00merror_message\u001b[38;5;132;01m}\u001b[39;00m\u001b[38;5;124m\"\u001b[39m)\n\u001b[1;32m    224\u001b[0m \u001b[38;5;28;01mif\u001b[39;00m \u001b[38;5;28mself\u001b[39m\u001b[38;5;241m.\u001b[39m_status \u001b[38;5;129;01mis\u001b[39;00m JobStatus\u001b[38;5;241m.\u001b[39mCANCELLED:\n\u001b[1;32m    225\u001b[0m     \u001b[38;5;28;01mraise\u001b[39;00m RuntimeInvalidStateError(\n\u001b[1;32m    226\u001b[0m         \u001b[38;5;124m\"\u001b[39m\u001b[38;5;124mUnable to retrieve result for job \u001b[39m\u001b[38;5;132;01m{}\u001b[39;00m\u001b[38;5;124m. \u001b[39m\u001b[38;5;124m\"\u001b[39m \u001b[38;5;124m\"\u001b[39m\u001b[38;5;124mJob was cancelled.\u001b[39m\u001b[38;5;124m\"\u001b[39m\u001b[38;5;241m.\u001b[39mformat(\u001b[38;5;28mself\u001b[39m\u001b[38;5;241m.\u001b[39mjob_id())\n\u001b[1;32m    227\u001b[0m     )\n",
      "\u001b[0;31mRuntimeJobFailureError\u001b[0m: \"Unable to retrieve job result. Unexpected program input parameter 'observable'.\""
     ]
    }
   ],
   "source": [
    "from qiskit import QuantumCircuit\n",
    "from qiskit.quantum_info import Statevector, SparsePauliOp\n",
    "from qiskit_ibm_runtime import QiskitRuntimeService, Sampler, RuntimeOptions\n",
    "import numpy as np\n",
    "import matplotlib.pyplot as plt\n",
    "\n",
    "# Initialize the runtime service\n",
    "service = QiskitRuntimeService()\n",
    "\n",
    "# Prepare the initial Bell state |Ψ⟩ = (|01⟩ + |10⟩)/√2\n",
    "circuit = QuantumCircuit(2)\n",
    "circuit.x(1)  # Prepare |10⟩\n",
    "circuit.h(0)  # Apply Hadamard to the first qubit\n",
    "circuit.cx(0, 1)  # Apply CNOT to create entanglement\n",
    "\n",
    "# Hamiltonian Parameters\n",
    "omega0 = 1.0  # Energy level splitting\n",
    "kappa = 0.1   # Coupling strength between qubits\n",
    "\n",
    "# Define Pauli operators as SparsePauliOp for tensor operations\n",
    "Z = SparsePauliOp.from_list([('Z', 1)])\n",
    "X = SparsePauliOp.from_list([('X', 1)])\n",
    "Y = SparsePauliOp.from_list([('Y', 1)])\n",
    "I = SparsePauliOp.from_list([('I', 1)])\n",
    "\n",
    "# Construct the Hamiltonian using tensor products\n",
    "H0 = omega0 / 2 * (Z.tensor(I) + I.tensor(Z))\n",
    "HI = kappa * ((X.tensor(X)) - (Y.tensor(Y)))\n",
    "H = H0 + HI\n",
    "\n",
    "# Define time points for simulation\n",
    "time_points = np.linspace(0, 10, 100)\n",
    "\n",
    "# Initialize the Sampler\n",
    "backend = service.backend(\"ibmq_qasm_simulator\")\n",
    "sampler = Sampler(backend)\n",
    "\n",
    "# Define options for running the Sampler\n",
    "options = {'backend': 'ibmq_qasm_simulator'}\n",
    "\n",
    "# Run the simulation\n",
    "results = []\n",
    "for t in time_points:\n",
    "    job = service.run(\n",
    "        program=sampler,\n",
    "        inputs={\n",
    "            'circuits': circuit,\n",
    "            'observable': H,\n",
    "            'parameter_values': [[t]]\n",
    "        },\n",
    "        options=options\n",
    "    )\n",
    "    result = job.result()\n",
    "    # Calculate concurrence for the evolved state\n",
    "    concurrence_value = concurrence(Statevector(result))  # Ensure you define concurrence computation\n",
    "    results.append(concurrence_value)\n",
    "\n",
    "# Plotting the concurrence over time\n",
    "plt.figure(figsize=(10, 6))\n",
    "plt.plot(time_points, results, label='Concurrence')\n",
    "plt.xlabel('Time')\n",
    "plt.ylabel('Concurrence')\n",
    "plt.title('Time Evolution of Concurrence')\n",
    "plt.legend()\n",
    "plt.grid(True)\n",
    "plt.show()\n"
   ]
  },
  {
   "cell_type": "code",
   "execution_count": null,
   "metadata": {},
   "outputs": [],
   "source": []
  },
  {
   "cell_type": "code",
   "execution_count": null,
   "metadata": {},
   "outputs": [],
   "source": []
  }
 ],
 "metadata": {
  "kernelspec": {
   "display_name": ".venv",
   "language": "python",
   "name": "python3"
  },
  "language_info": {
   "codemirror_mode": {
    "name": "ipython",
    "version": 3
   },
   "file_extension": ".py",
   "mimetype": "text/x-python",
   "name": "python",
   "nbconvert_exporter": "python",
   "pygments_lexer": "ipython3",
   "version": "3.12.3"
  }
 },
 "nbformat": 4,
 "nbformat_minor": 2
}
