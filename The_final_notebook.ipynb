{
 "cells": [
  {
   "cell_type": "markdown",
   "metadata": {},
   "source": [
    "### Casual Stuff for syntax purpose"
   ]
  },
  {
   "cell_type": "code",
   "execution_count": 7,
   "metadata": {},
   "outputs": [],
   "source": [
    "from qiskit import *\n",
    "from qiskit.visualization import *\n",
    "from qiskit.quantum_info import Statevector, SparsePauliOp, state_fidelity, concurrence, DensityMatrix, partial_trace\n",
    "from qiskit_algorithms import *\n",
    "from qiskit_ibm_runtime import *"
   ]
  },
  {
   "cell_type": "code",
   "execution_count": 22,
   "metadata": {},
   "outputs": [],
   "source": [
    "from qiskit_ibm_runtime import QiskitRuntimeService\n",
    "# Or save your credentials on disk.\n",
    "QiskitRuntimeService.save_account(channel='ibm_quantum', instance='usc/phys550/phys550', token='0d6866ec4cd8e33433ae1c1e7f33875963ad78fcc2f6711eb982e57fb480756eb42fe86c4549e9858a4387c414b780b22351daeaeb156e2fa32292434552aca1', overwrite=True)\n",
    "# Load saved credentials\n",
    "service = QiskitRuntimeService()"
   ]
  },
  {
   "cell_type": "code",
   "execution_count": 23,
   "metadata": {},
   "outputs": [
    {
     "data": {
      "text/plain": [
       "[<IBMBackend('ibm_osaka')>,\n",
       " <IBMBackend('ibmq_qasm_simulator')>,\n",
       " <IBMBackend('simulator_extended_stabilizer')>,\n",
       " <IBMBackend('simulator_stabilizer')>,\n",
       " <IBMBackend('ibm_sherbrooke')>,\n",
       " <IBMBackend('ibm_torino')>,\n",
       " <IBMBackend('simulator_mps')>,\n",
       " <IBMBackend('simulator_statevector')>,\n",
       " <IBMBackend('ibm_brisbane')>,\n",
       " <IBMBackend('ibm_cusco')>,\n",
       " <IBMBackend('ibm_kyoto')>,\n",
       " <IBMBackend('ibm_nazca')>]"
      ]
     },
     "execution_count": 23,
     "metadata": {},
     "output_type": "execute_result"
    }
   ],
   "source": [
    "service.backends()"
   ]
  },
  {
   "cell_type": "code",
   "execution_count": 24,
   "metadata": {},
   "outputs": [
    {
     "data": {
      "text/plain": [
       "'ibm_cusco'"
      ]
     },
     "execution_count": 24,
     "metadata": {},
     "output_type": "execute_result"
    }
   ],
   "source": [
    "# To run on hardware, select the backend with the fewest number of jobs in the queue\n",
    "service = QiskitRuntimeService(channel=\"ibm_quantum\")\n",
    "backend = service.least_busy(operational=True, simulator=False)\n",
    "backend.name"
   ]
  },
  {
   "cell_type": "code",
   "execution_count": null,
   "metadata": {},
   "outputs": [],
   "source": [
    "from qiskit.transpiler.preset_passmanagers import generate_preset_pass_manager\n",
    "from qiskit_ibm_runtime import QiskitRuntimeService, Sampler as Sampler\n",
    "\n",
    " \n",
    "service = QiskitRuntimeService()\n",
    "backend = service.least_busy(operational=True, simulator=False, min_num_qubits=12)\n",
    "pm = generate_preset_pass_manager(backend=backend, optimization_level=1)\n",
    "isa_circuit = pm.run(qc)\n",
    " \n",
    "sampler = Sampler(backend)\n",
    "job = sampler.run([isa_circuit])\n",
    "result = job.result()\n",
    "# Get results for the first (and only) PUB\n",
    "pub_result = result[0]\n",
    "print(result[0].get_counts())"
   ]
  },
  {
   "cell_type": "code",
   "execution_count": null,
   "metadata": {},
   "outputs": [],
   "source": [
    "from qiskit_ibm_runtime import QiskitRuntimeService, SamplerV2 as sampler\n",
    "\n",
    "service = QiskitRuntimeService()\n",
    "backend = service.backend(\"ibmq_qasm_simulator\")\n",
    " \n",
    "sampler = Sampler(backend)\n",
    "job = sampler.run([qc])\n",
    "print(f\"job id: {job.job_id()}\")\n",
    "result = job.result()\n",
    "print(result)"
   ]
  },
  {
   "cell_type": "markdown",
   "metadata": {},
   "source": [
    "### Totterization"
   ]
  },
  {
   "cell_type": "code",
   "execution_count": 36,
   "metadata": {},
   "outputs": [],
   "source": [
    "c=[]"
   ]
  },
  {
   "cell_type": "code",
   "execution_count": 37,
   "metadata": {},
   "outputs": [],
   "source": [
    "from qiskit.quantum_info import SparsePauliOp\n",
    "from math import sin, cos\n",
    "\n",
    "\n",
    "def get_hamiltonian(L, J, h, alpha=0):\n",
    "\n",
    "    # List of Hamiltonian terms as 3-tuples containing\n",
    "    # (1) the Pauli string,\n",
    "    # (2) the qubit indices corresponding to the Pauli string,\n",
    "    # (3) the coefficient.\n",
    "    ZZ_tuples = [(\"ZZ\", [i, i + 1], -J) for i in range(0, L - 1)]\n",
    "    Z_tuples = [(\"Z\", [i], -h * sin(alpha)) for i in range(0, L)]\n",
    "    X_tuples = [(\"X\", [i], -h * cos(alpha)) for i in range(0, L)]\n",
    "\n",
    "    # We create the Hamiltonian as a SparsePauliOp, via the method\n",
    "    # `from_sparse_list`, and multiply by the interaction term.\n",
    "    hamiltonian = SparsePauliOp.from_sparse_list([*ZZ_tuples, *Z_tuples, *X_tuples], num_qubits=L)\n",
    "    return hamiltonian.simplify()"
   ]
  },
  {
   "cell_type": "code",
   "execution_count": 38,
   "metadata": {},
   "outputs": [
    {
     "data": {
      "text/plain": [
       "SparsePauliOp(['ZZ', 'IZ', 'ZI', 'IX', 'XI'],\n",
       "              coeffs=[-0.2       +0.j, -0.38268343+0.j, -0.38268343+0.j, -0.92387953+0.j,\n",
       " -0.92387953+0.j])"
      ]
     },
     "execution_count": 38,
     "metadata": {},
     "output_type": "execute_result"
    }
   ],
   "source": [
    "from math import pi\n",
    "\n",
    "H = get_hamiltonian(L=2, J=0.2, h=1.0, alpha=pi / 8)\n",
    "H"
   ]
  },
  {
   "cell_type": "code",
   "execution_count": 39,
   "metadata": {},
   "outputs": [],
   "source": [
    "from qiskit.quantum_info import Statevector\n",
    "from qiskit_algorithms import TimeEvolutionProblem\n",
    "\n",
    "final_time = 1.6\n",
    "\n",
    "# First spin up, second spin down\n",
    "# (remember that the labels are interpreted from right to left)\n",
    "initial_state = Statevector.from_label(\"10\")\n",
    "\n",
    "problem = TimeEvolutionProblem(H, initial_state=initial_state, time=final_time)"
   ]
  },
  {
   "cell_type": "code",
   "execution_count": 40,
   "metadata": {},
   "outputs": [],
   "source": [
    "from qiskit_algorithms import TrotterQRTE\n",
    "\n",
    "trotter = TrotterQRTE()\n",
    "result = trotter.evolve(problem)"
   ]
  },
  {
   "cell_type": "code",
   "execution_count": 41,
   "metadata": {},
   "outputs": [
    {
     "data": {
      "image/png": "[encoded data removed]",
      "text/plain": [
       "<Figure size 538.128x200.667 with 1 Axes>"
      ]
     },
     "execution_count": 41,
     "metadata": {},
     "output_type": "execute_result"
    }
   ],
   "source": [
    "result.evolved_state.decompose(reps=2).decompose(\"disentangler_dg\").decompose(\n",
    "    \"multiplex1_reverse_dg\"\n",
    ").draw(\"mpl\")"
   ]
  },
  {
   "cell_type": "code",
   "execution_count": 42,
   "metadata": {},
   "outputs": [
    {
     "name": "stdout",
     "output_type": "stream",
     "text": [
      "Statevector([ 0.02895926+0.08738739j, -0.9411211 +0.31187756j,\n",
      "              0.00811432-0.002689j  ,  0.02895926+0.08738739j],\n",
      "            dims=(2, 2))\n"
     ]
    }
   ],
   "source": [
    "statevector = Statevector(result.evolved_state)\n",
    "print(statevector)"
   ]
  },
  {
   "cell_type": "code",
   "execution_count": 43,
   "metadata": {},
   "outputs": [
    {
     "name": "stdout",
     "output_type": "stream",
     "text": [
      "[nan]\n"
     ]
    },
    {
     "name": "stderr",
     "output_type": "stream",
     "text": [
      "/Users/rishwithimmaraju/QuantumPython/.venv/lib/python3.12/site-packages/qiskit/quantum_info/states/measures.py:213: RuntimeWarning: invalid value encountered in sqrt\n",
      "  return float(np.sqrt(2 * (1 - np.real(purity(rho)))))\n"
     ]
    }
   ],
   "source": [
    "c.append(concurrence(statevector))\n",
    "print(c) "
   ]
  },
  {
   "cell_type": "code",
   "execution_count": 34,
   "metadata": {},
   "outputs": [
    {
     "data": {
      "text/plain": [
       "<matplotlib.legend.Legend at 0x167d5db50>"
      ]
     },
     "execution_count": 34,
     "metadata": {},
     "output_type": "execute_result"
    },
    {
     "data": {
      "image/png": "[encoded data removed]",
      "text/plain": [
       "<Figure size 640x480 with 1 Axes>"
      ]
     },
     "metadata": {},
     "output_type": "display_data"
    }
   ],
   "source": [
    "import numpy as np\n",
    "import matplotlib.pyplot as plt\n",
    "\n",
    "bar_width = 0.1\n",
    "# We prepare an initial state ↑↓ (01).\n",
    "# Note that Statevector and SparsePauliOp interpret the qubits from right to left\n",
    "initial_state = Statevector([1/sqrt(2), 0, 0, +1/sqrt(2)])\n",
    "trotter = TrotterQRTE()\n",
    "final_time = 1.6\n",
    "eps = 1e-5\n",
    "\n",
    "# We create the list of angles in radians, with a small epsilon\n",
    "# the exactly longitudinal field, which would present no dynamics at all\n",
    "alphas = np.linspace(-np.pi / 2 + eps, np.pi / 2 - eps, 5)\n",
    "\n",
    "for i, alpha in enumerate(alphas):\n",
    "    H_alpha = get_hamiltonian(L=2, J=0.2, h=1.0, alpha=alpha)\n",
    "    problem = TimeEvolutionProblem(H_alpha, initial_state=initial_state, time=1.6)\n",
    "    result = trotter.evolve(problem)\n",
    "    evolved_state = Statevector(result.evolved_state)\n",
    "    c.append(concurrence(statevector))\n",
    "    # Dictionary of probabilities\n",
    "    amplitudes_dict = evolved_state.probabilities_dict()\n",
    "    labels = list(amplitudes_dict.keys())\n",
    "    values = list(amplitudes_dict.values())\n",
    "    # Convert angle to degrees\n",
    "    alpha_str = f\"$\\\\alpha={int(np.round(alpha * 180 / pi))}^\\\\circ$\"\n",
    "    plt.bar(np.arange(4) + i * bar_width, values, bar_width, label=alpha_str, alpha=0.7)\n",
    "\n",
    "plt.xticks(np.arange(4) + 2 * bar_width, labels)\n",
    "plt.xlabel(\"Measurement\")\n",
    "plt.ylabel(\"Probability\")\n",
    "plt.suptitle(\n",
    "    f\"Measurement probabilities at $t={final_time}$, for various field angles $\\\\alpha$\\n\"\n",
    "    f\"Initial state: 10, Linear lattice of size $L=2$\"\n",
    ")\n",
    "plt.legend()"
   ]
  },
  {
   "cell_type": "code",
   "execution_count": 35,
   "metadata": {},
   "outputs": [
    {
     "name": "stdout",
     "output_type": "stream",
     "text": [
      "[1.0, 1.0, 1.0, 1.0, 1.0, 1.0, 1.0, 1.0, 1.0, 1.0]\n"
     ]
    }
   ],
   "source": [
    "print(c)\n"
   ]
  },
  {
   "cell_type": "code",
   "execution_count": null,
   "metadata": {},
   "outputs": [],
   "source": [
    "c=[]"
   ]
  },
  {
   "cell_type": "code",
   "execution_count": 30,
   "metadata": {},
   "outputs": [
    {
     "name": "stdout",
     "output_type": "stream",
     "text": [
      "Statevector([-0.43310531+0.55719655j, -0.0138973 +0.04193646j,\n",
      "             -0.0138973 +0.04193646j, -0.01463669-0.7055735j ],\n",
      "            dims=(2, 2))\n",
      "[1.0]\n"
     ]
    }
   ],
   "source": [
    "\"\"\"MULTIPLE TIMES TOTTER\"\"\"\n",
    "\n",
    "from math import pi, sqrt\n",
    "\n",
    "from qiskit.quantum_info import Statevector\n",
    "from qiskit_algorithms import TimeEvolutionProblem\n",
    "\n",
    "#for final_time in t:\n",
    "H = get_hamiltonian(L=2, J=0.2, h=1.0, alpha=pi / 8)\n",
    "\n",
    "final_time = 1.6\n",
    "# First spin up, second spin down\n",
    "# (remember that the labels are interpreted from right to left)\n",
    "initial_state = Statevector([1/sqrt(2), 0, 0, +1/sqrt(2)])\n",
    "\n",
    "problem = TimeEvolutionProblem(H, initial_state=initial_state, time=final_time)\n",
    "\n",
    "trotter = TrotterQRTE()\n",
    "result = trotter.evolve(problem)\n",
    "\n",
    "result.evolved_state.decompose(reps=2).decompose(\"disentangler_dg\").decompose(\n",
    "    \"multiplex1_reverse_dg\"\n",
    ").draw(\"mpl\")\n",
    "\n",
    "statevector = Statevector(result.evolved_state)\n",
    "print(statevector)\n",
    "\n",
    "c.append(concurrence(statevector))\n",
    "print(c) "
   ]
  },
  {
   "cell_type": "markdown",
   "metadata": {},
   "source": [
    "### IDENTITY Gate IBM Run"
   ]
  },
  {
   "cell_type": "code",
   "execution_count": 3,
   "metadata": {},
   "outputs": [
    {
     "data": {
      "image/png": "[encoded data removed]",
      "text/plain": [
       "<Figure size 621.739x200.667 with 1 Axes>"
      ]
     },
     "execution_count": 3,
     "metadata": {},
     "output_type": "execute_result"
    }
   ],
   "source": [
    "#circuit with Identity Gates\n",
    "iqc = QuantumCircuit(2)\n",
    "\n",
    "iqc.h(0)\n",
    "iqc.cx(0,1)\n",
    "\n",
    "iqc.barrier()\n",
    "iqc.id([0,1])\n",
    "iqc.barrier()\n",
    "iqc.id([0,1])\n",
    "\n",
    "iqc.draw(output='mpl')"
   ]
  },
  {
   "cell_type": "code",
   "execution_count": null,
   "metadata": {},
   "outputs": [],
   "source": []
  },
  {
   "cell_type": "code",
   "execution_count": 6,
   "metadata": {},
   "outputs": [
    {
     "ename": "NameError",
     "evalue": "name 'StateVector' is not defined",
     "output_type": "error",
     "traceback": [
      "\u001b[0;31m---------------------------------------------------------------------------\u001b[0m",
      "\u001b[0;31mNameError\u001b[0m                                 Traceback (most recent call last)",
      "Cell \u001b[0;32mIn[6], line 1\u001b[0m\n\u001b[0;32m----> 1\u001b[0m s \u001b[38;5;241m=\u001b[39m \u001b[43mStateVector\u001b[49m\u001b[38;5;241m.\u001b[39mfrom_instruction(iqc)\n",
      "\u001b[0;31mNameError\u001b[0m: name 'StateVector' is not defined"
     ]
    }
   ],
   "source": [
    "s = StateVector.from_instruction(iqc)"
   ]
  },
  {
   "cell_type": "code",
   "execution_count": null,
   "metadata": {},
   "outputs": [],
   "source": [
    "from qiskit_ibm_runtime import QiskitRuntimeService, Sampler as sampler\n",
    "\n",
    " \n",
    "service = QiskitRuntimeService()\n",
    "backend = service.backend(\"ibmq_qasm_simulator\")\n",
    "\n",
    "results = sampler(backend, options={'shots':}).run(mmqc).result()\n",
    "print(results)"
   ]
  },
  {
   "cell_type": "code",
   "execution_count": 16,
   "metadata": {},
   "outputs": [
    {
     "data": {
      "image/png": "[encoded data removed]",
      "text/plain": [
       "<Figure size 1001.57x535.111 with 1 Axes>"
      ]
     },
     "execution_count": 16,
     "metadata": {},
     "output_type": "execute_result"
    }
   ],
   "source": [
    "\"\"\"RUN IT USING FAKE PROVIDERS\"\"\"\n",
    "\n",
    "from qiskit import QuantumCircuit, transpile\n",
    "from qiskit.providers.fake_provider import GenericBackendV2\n",
    "from qiskit.visualization import plot_histogram\n",
    " \n",
    "# Generate a 5-qubit simulated backend\n",
    "backend = GenericBackendV2(num_qubits=5)\n",
    " \n",
    "# Create a simple circuit\n",
    "iqc = QuantumCircuit(2)\n",
    "iqc.h(0)\n",
    "iqc.cx(0,1)\n",
    "\n",
    "iqc.barrier()\n",
    "iqc.id([0,1])\n",
    "iqc.barrier()\n",
    "iqc.id([0,1])\n",
    "iqc.measure_all()\n",
    " \n",
    "# Transpile the ideal circuit to a circuit that can be directly executed by the backend\n",
    "transpiled_circuit = transpile(iqc, backend)\n",
    "transpiled_circuit.draw('mpl')\n",
    " \n"
   ]
  },
  {
   "cell_type": "code",
   "execution_count": 11,
   "metadata": {},
   "outputs": [
    {
     "data": {
      "image/png": "[encoded data removed]",
      "text/plain": [
       "<Figure size 700x500 with 1 Axes>"
      ]
     },
     "execution_count": 11,
     "metadata": {},
     "output_type": "execute_result"
    }
   ],
   "source": [
    "# Run the transpiled circuit using the simulated backend\n",
    "fake_job = backend.run(transpiled_circuit)\n",
    "fake_counts = job.result().get_counts()\n",
    "plot_histogram(counts)"
   ]
  },
  {
   "cell_type": "code",
   "execution_count": 15,
   "metadata": {},
   "outputs": [
    {
     "name": "stdout",
     "output_type": "stream",
     "text": [
      "Result(backend_name='aer_simulator', backend_version='0.14.0.1', qobj_id='', job_id='eb146ee6-c204-4cd9-adae-a0c27745c726', success=True, results=[ExperimentResult(shots=1024, success=True, meas_level=2, data=ExperimentResultData(counts={'0x1': 7, '0x2': 7, '0x0': 519, '0x3': 491}), header=QobjExperimentHeader(creg_sizes=[['meas', 2]], global_phase=0.7853981633974483, memory_slots=2, n_qubits=5, name='circuit-860', qreg_sizes=[['q', 5]], metadata={}), status=DONE, seed_simulator=2662235547, metadata={'num_bind_params': 1, 'runtime_parameter_bind': False, 'parallel_state_update': 8, 'parallel_shots': 1, 'sample_measure_time': 0.000119375, 'noise': 'superop', 'batched_shots_optimization': False, 'remapped_qubits': False, 'active_input_qubits': [0, 1], 'device': 'CPU', 'time_taken': 0.015099208, 'measure_sampling': True, 'num_clbits': 2, 'max_memory_mb': 8192, 'input_qubit_map': [[1, 1], [0, 0]], 'num_qubits': 2, 'method': 'density_matrix', 'required_memory_mb': 1, 'fusion': {'enabled': True, 'threshold': 7, 'applied': False, 'max_fused_qubits': 2}}, time_taken=0.015099208)], date=2024-05-03T12:18:27.905423, status=COMPLETED, header=None, metadata={'time_taken_parameter_binding': 1.1209e-05, 'max_memory_mb': 8192, 'time_taken_execute': 0.01633375, 'omp_enabled': True, 'max_gpu_memory_mb': 0, 'parallel_experiments': 1}, time_taken=0.033120155334472656)\n"
     ]
    }
   ],
   "source": [
    "print(job.result())"
   ]
  },
  {
   "cell_type": "code",
   "execution_count": 17,
   "metadata": {},
   "outputs": [
    {
     "name": "stderr",
     "output_type": "stream",
     "text": [
      "runtime_job._start_websocket_client:WARNING:2024-05-03 12:33:56,498: An error occurred while streaming results from the server for job coqjo4r501i0h3epv650:\n",
      "Traceback (most recent call last):\n",
      "  File \"/Users/rishwithimmaraju/QuantumPython/.venv/lib/python3.12/site-packages/qiskit_ibm_runtime/runtime_job.py\", line 549, in _start_websocket_client\n",
      "    self._ws_client.job_results()\n",
      "  File \"/Users/rishwithimmaraju/QuantumPython/.venv/lib/python3.12/site-packages/qiskit_ibm_runtime/api/clients/runtime_ws.py\", line 70, in job_results\n",
      "    self.stream(url=url, retries=max_retries, backoff_factor=backoff_factor)\n",
      "  File \"/Users/rishwithimmaraju/QuantumPython/.venv/lib/python3.12/site-packages/qiskit_ibm_runtime/api/clients/base_websocket_client.py\", line 222, in stream\n",
      "    raise WebsocketError(error_message)\n",
      "qiskit_ibm_runtime.api.exceptions.WebsocketError: 'Max retries exceeded: Failed to establish a websocket connection. Error: Traceback (most recent call last):\\n  File \"/Users/rishwithimmaraju/QuantumPython/.venv/lib/python3.12/site-packages/websocket/_app.py\", line 476, in setSock\\n    self.sock.connect(\\n  File \"/Users/rishwithimmaraju/QuantumPython/.venv/lib/python3.12/site-packages/websocket/_core.py\", line 256, in connect\\n    self.sock, addrs = connect(\\n                       ^^^^^^^^\\n  File \"/Users/rishwithimmaraju/QuantumPython/.venv/lib/python3.12/site-packages/websocket/_http.py\", line 147, in connect\\n    sock = _ssl_socket(sock, options.sslopt, hostname)\\n           ^^^^^^^^^^^^^^^^^^^^^^^^^^^^^^^^^^^^^^^^^^^\\n  File \"/Users/rishwithimmaraju/QuantumPython/.venv/lib/python3.12/site-packages/websocket/_http.py\", line 307, in _ssl_socket\\n    sock = _wrap_sni_socket(sock, sslopt, hostname, check_hostname)\\n           ^^^^^^^^^^^^^^^^^^^^^^^^^^^^^^^^^^^^^^^^^^^^^^^^^^^^^^^^\\n  File \"/Users/rishwithimmaraju/QuantumPython/.venv/lib/python3.12/site-packages/websocket/_http.py\", line 277, in _wrap_sni_socket\\n    return context.wrap_socket(\\n           ^^^^^^^^^^^^^^^^^^^^\\n  File \"/Library/Frameworks/Python.framework/Versions/3.12/lib/python3.12/ssl.py\", line 455, in wrap_socket\\n    return self.sslsocket_class._create(\\n           ^^^^^^^^^^^^^^^^^^^^^^^^^^^^^\\n  File \"/Library/Frameworks/Python.framework/Versions/3.12/lib/python3.12/ssl.py\", line 1046, in _create\\n    self.do_handshake()\\n  File \"/Library/Frameworks/Python.framework/Versions/3.12/lib/python3.12/ssl.py\", line 1321, in do_handshake\\n    self._sslobj.do_handshake()\\nssl.SSLCertVerificationError: [SSL: CERTIFICATE_VERIFY_FAILED] certificate verify failed: unable to get local issuer certificate (_ssl.c:1000)\\n'\n",
      "\n"
     ]
    },
    {
     "name": "stdout",
     "output_type": "stream",
     "text": [
      "{'11': 1982, '00': 2018}\n"
     ]
    }
   ],
   "source": [
    "from qiskit_ibm_runtime import QiskitRuntimeService\n",
    "service = QiskitRuntimeService()\n",
    "backend = service.get_backend(\"simulator_statevector\")\n",
    "\n",
    "job = backend.run(iqc)\n",
    "result =job.result()\n",
    "counts = result.get_counts()\n",
    "print(counts)"
   ]
  },
  {
   "cell_type": "code",
   "execution_count": 19,
   "metadata": {},
   "outputs": [
    {
     "data": {
      "image/png": "[encoded data removed]",
      "text/plain": [
       "<Figure size 700x500 with 1 Axes>"
      ]
     },
     "execution_count": 19,
     "metadata": {},
     "output_type": "execute_result"
    }
   ],
   "source": [
    "plot_histogram(counts)"
   ]
  },
  {
   "cell_type": "code",
   "execution_count": null,
   "metadata": {},
   "outputs": [],
   "source": [
    "from qiskit.transpiler.preset_passmanagers import generate_preset_pass_manager\n",
    "from qiskit_ibm_runtime import QiskitRuntimeService, Sampler as Sampler\n",
    "\n",
    " \n",
    "service = QiskitRuntimeService()\n",
    "backend = service.least_busy(operational=True, simulator=False, min_num_qubits=12)\n",
    "pm = generate_preset_pass_manager(backend=backend, optimization_level=1)\n",
    "isa_circuit = pm.run(iqc)\n",
    " \n",
    "sampler = Sampler(backend)\n",
    "job = sampler.run([isa_circuit], s)\n",
    "result = job.result()\n",
    "# Get results for the first (and only) PUB\n",
    "pub_result = result[0]\n",
    "print(result[0].get_counts())"
   ]
  },
  {
   "cell_type": "markdown",
   "metadata": {},
   "source": [
    "### Our Hamiltonian on IBM systems Run"
   ]
  },
  {
   "cell_type": "code",
   "execution_count": null,
   "metadata": {},
   "outputs": [],
   "source": [
    "from qiskit import *\n",
    "from qiskit.quantum_info import Statevector, SparsePauliOp\n",
    "from qiskit_ibm_runtime import QiskitRuntimeService, Sampler, RuntimeOptions\n",
    "import numpy as np\n",
    "import matplotlib.pyplot as plt\n",
    "\n",
    "\n",
    "# Initialize the runtime service\n",
    "service = QiskitRuntimeService()\n",
    "\n",
    "# Prepare the initial Bell state |Ψ⟩ = (|01⟩ + |10⟩)/√2\n",
    "circuit = QuantumCircuit(2)\n",
    "circuit.x(1)  # Prepare |10⟩\n",
    "circuit.h(0)  # Apply Hadamard to the first qubit\n",
    "circuit.cx(0, 1)  # Apply CNOT to create entanglement\n",
    "\n",
    "# Hamiltonian Parameters\n",
    "omega0 = 1.0  # Energy level splitting\n",
    "kappa = 0.1   # Coupling strength between qubits\n",
    "\n",
    "# Define Pauli operators as SparsePauliOp for tensor operations\n",
    "Z = SparsePauliOp.from_list([('Z', 1)])\n",
    "X = SparsePauliOp.from_list([('X', 1)])\n",
    "Y = SparsePauliOp.from_list([('Y', 1)])\n",
    "I = SparsePauliOp.from_list([('I', 1)])\n",
    "\n",
    "# Construct the Hamiltonian using tensor products\n",
    "H0 = omega0 / 2 * (Z.tensor(I) + I.tensor(Z))\n",
    "HI = kappa * ((X.tensor(X)) - (Y.tensor(Y)))\n",
    "H = H0 + HI\n",
    "\n",
    "# Define time points for simulation\n",
    "time_points = np.linspace(0, 10, 100)\n",
    "\n",
    "# Initialize the Sampler\n",
    "backend = service.backend(\"ibmq_qasm_simulator\")\n",
    "sampler = Sampler(backend)\n",
    "\n",
    "# Define options for running the Sampler\n",
    "options = {backend= 'ibmq_qasm_simulator', shots=100}\n",
    "\n",
    "# Run the simulation\n",
    "results = []\n",
    "for t in time_points:\n",
    "    job = service.run(\n",
    "        sampler,\n",
    "        inputs={\n",
    "            'circuits': circuit,\n",
    "            'observable': H,\n",
    "            'parameter_values': [[t]]\n",
    "        },\n",
    "        options=options\n",
    "    )\n",
    "    result = job.result()\n",
    "    # Calculate concurrence for the evolved state\n",
    "    concurrence_value = concurrence(Statevector(result))  # Ensure you define concurrence computation\n",
    "    results.append(concurrence_value)\n",
    "\n",
    "# Plotting the concurrence over time\n",
    "plt.figure(figsize=(10, 6))\n",
    "plt.plot(time_points, results, label='Concurrence')\n",
    "plt.xlabel('Time')\n",
    "plt.ylabel('Concurrence')\n",
    "plt.title('Time Evolution of Concurrence')\n",
    "plt.legend()\n",
    "plt.grid(True)\n",
    "plt.show()\n"
   ]
  },
  {
   "cell_type": "code",
   "execution_count": null,
   "metadata": {},
   "outputs": [],
   "source": [
    "from qiskit import QuantumCircuit\n",
    "from qiskit.quantum_info import SparsePauliOp\n",
    "from qiskit_ibm_runtime import QiskitRuntimeService, Sampler, Options\n",
    "import numpy as np\n",
    "import matplotlib.pyplot as plt\n",
    "\n",
    "# Initialize the runtime service\n",
    "service = QiskitRuntimeService()\n",
    "\n",
    "# Choose the backend\n",
    "backend = service.backend(\"ibmq_qasm_simulator\")\n",
    "\n",
    "# Prepare the initial Bell state |Ψ⟩ = (|01⟩ + |10⟩)/√2 and add measurement\n",
    "circuit = QuantumCircuit(2, 2)  # Add 2 classical bits for measurements\n",
    "circuit.x(1)  # Prepare |10⟩\n",
    "circuit.h(0)  # Apply Hadamard to the first qubit\n",
    "circuit.cx(0, 1)  # Apply CNOT to create entanglement\n",
    "circuit.measure([0, 1], [0, 1])  # Measure the qubits\n",
    "\n",
    "# Hamiltonian Parameters\n",
    "omega0 = 1.0  # Energy level splitting\n",
    "kappa = 0.1   # Coupling strength between qubits\n",
    "\n",
    "# Define Pauli operators as SparsePauliOp for tensor operations\n",
    "Z = SparsePauliOp.from_list([('Z', 1)])\n",
    "X = SparsePauliOp.from_list([('X', 1)])\n",
    "Y = SparsePauliOp.from_list([('Y', 1)])\n",
    "I = SparsePauliOp.from_list([('I', 1)])\n",
    "\n",
    "# Construct the Hamiltonian using tensor products\n",
    "H0 = omega0 / 2 * (Z.tensor(I) + I.tensor(Z))\n",
    "HI = kappa * ((X.tensor(X)) - (Y.tensor(Y)))\n",
    "H = H0 + HI\n",
    "\n",
    "# Initialize the Sampler\n",
    "sampler = Sampler(backend=backend)\n",
    "\n",
    "# Define options for running the Sampler\n",
    "options = Options(optimization_level=3)\n",
    "\n",
    "# Execute the sampler job\n",
    "job = sampler.run(circuits=circuit, observable=H, shots=1024, options=options)\n",
    "result = job.result()\n",
    "\n",
    "# Processing the results\n",
    "counts = result.get_counts()\n",
    "\n",
    "# Print counts\n",
    "print(\"Measurement Counts:\", counts)\n",
    "\n",
    "# Placeholder for analysis; implement as necessary\n",
    "# You might want to calculate certain metrics or perform further analysis based on 'counts'\n"
   ]
  },
  {
   "cell_type": "markdown",
   "metadata": {},
   "source": [
    "### Rishwi Hand written Python Script for "
   ]
  },
  {
   "cell_type": "code",
   "execution_count": 45,
   "metadata": {},
   "outputs": [
    {
     "name": "stdout",
     "output_type": "stream",
     "text": [
      "DensityMatrix([[0.5+0.j, 0. +0.j, 0. +0.j, 0.5+0.j],\n",
      "               [0. +0.j, 0. +0.j, 0. +0.j, 0. +0.j],\n",
      "               [0. +0.j, 0. +0.j, 0. +0.j, 0. +0.j],\n",
      "               [0.5+0.j, 0. +0.j, 0. +0.j, 0.5+0.j]],\n",
      "              dims=(2, 2))\n",
      "Two-qubit Hamiltonian H:\n",
      "Operator([[4.+0.j, 2.-2.j, 2.-2.j, 0.-2.j],\n",
      "          [2.+2.j, 0.+0.j, 2.+0.j, 0.+0.j],\n",
      "          [2.+2.j, 2.+0.j, 0.+0.j, 0.+0.j],\n",
      "          [0.+2.j, 0.+0.j, 0.+0.j, 0.+0.j]],\n",
      "         input_dims=(2, 2), output_dims=(2, 2))\n",
      "Operator for X + iY:\n",
      "Operator([[0.+0.j, 0.+0.j, 0.+0.j, 4.+0.j],\n",
      "          [0.+0.j, 0.+0.j, 0.+0.j, 0.+0.j],\n",
      "          [0.+0.j, 0.+0.j, 0.+0.j, 0.+0.j],\n",
      "          [0.+0.j, 0.+0.j, 0.+0.j, 0.+0.j]],\n",
      "         input_dims=(2, 2), output_dims=(2, 2))\n",
      "Operator for X - iY:\n",
      "Operator([[0.+0.j, 0.+0.j, 0.+0.j, 0.+0.j],\n",
      "          [0.+0.j, 0.+0.j, 0.+0.j, 0.+0.j],\n",
      "          [0.+0.j, 0.+0.j, 0.+0.j, 0.+0.j],\n",
      "          [4.+0.j, 0.+0.j, 0.+0.j, 0.+0.j]],\n",
      "         input_dims=(2, 2), output_dims=(2, 2))\n",
      "Commutator:\n",
      "[[ 0.-2.j -1.+1.j -1.+1.j  2.+0.j]\n",
      " [ 1.+1.j  0.+0.j  0.+0.j  1.+1.j]\n",
      " [ 1.+1.j  0.+0.j  0.+0.j  1.+1.j]\n",
      " [-2.+0.j -1.+1.j -1.+1.j  0.+2.j]]\n",
      "Dissipator:\n",
      "[[ 8.+0.j  0.+0.j  0.+0.j -4.+0.j]\n",
      " [ 0.+0.j  0.+0.j  0.+0.j  0.+0.j]\n",
      " [ 0.+0.j  0.+0.j  0.+0.j  0.+0.j]\n",
      " [-4.+0.j  0.+0.j  0.+0.j -8.+0.j]]\n",
      "Operator([[ 2.+0.j,  1.+1.j,  1.+1.j, -2.-2.j],\n",
      "          [ 1.-1.j,  0.+0.j,  0.+0.j,  1.-1.j],\n",
      "          [ 1.-1.j,  0.+0.j,  0.+0.j,  1.-1.j],\n",
      "          [-2.+2.j,  1.+1.j,  1.+1.j, -2.+0.j]],\n",
      "         input_dims=(2, 2), output_dims=(2, 2))\n"
     ]
    }
   ],
   "source": [
    "\"\"\"MY MAIN CODE\"\"\"\n",
    "\n",
    "\n",
    "\n",
    "\n",
    "\n",
    "\n",
    "\n",
    "\"\"\"Defining our Bell state circuit\"\"\"\n",
    "\n",
    "qc = QuantumCircuit(2)\n",
    "qc.h(0)\n",
    "qc.cx(0,1)\n",
    "\n",
    "\"\"\"Getting density matrix from it\"\"\"\n",
    "\n",
    "density_matrix = DensityMatrix.from_instruction(qc)\n",
    "print(density_matrix)\n",
    "density_matrix_op = Operator(density_matrix)\n",
    "\n",
    "\"\"\"Get the Hamiltonian\"\"\"\n",
    "\n",
    "from qiskit.quantum_info import SparsePauliOp, Pauli, Operator\n",
    "\n",
    "# Coefficients\n",
    "h0 = 1\n",
    "hx = 1\n",
    "hy = 1\n",
    "hz = 1\n",
    "\n",
    "# Define Hamiltonian for each qubit separately and combine them\n",
    "H1 = SparsePauliOp(['I', 'X', 'Y', 'Z'], [h0, hx, hy, hz])\n",
    "H2 = SparsePauliOp(['I', 'X', 'Y', 'Z'], [h0, hx, hy, hz])\n",
    "\n",
    "# Tensor product to form a two-qubit Hamiltonian\n",
    "opera = H1.tensor(H2)  # Apply H1 on both qubits\n",
    "\n",
    "# Convert to Operator if needed\n",
    "H = Operator(opera)\n",
    "\n",
    "# Print the Hamiltonian\n",
    "print(\"Two-qubit Hamiltonian H:\")\n",
    "print(H)\n",
    "\n",
    "\n",
    "\"\"\"Get the Lindblad Operators\"\"\"\n",
    "\n",
    "# Define Pauli X and Y matrices\n",
    "X = np.array([[0, 1], [1, 0]], dtype=complex)\n",
    "Y = np.array([[0, -1j], [1j, 0]], dtype=complex)\n",
    "\n",
    "# Construct X + iY\n",
    "X_plus_iY = X + 1j * Y\n",
    "X_minus_iY = X - 1j * Y\n",
    "\n",
    "# Create amplitude damping operators from the matrix\n",
    "l1 = Operator(X_plus_iY)\n",
    "l2 = Operator(X_minus_iY)\n",
    "\n",
    "\n",
    "opera1 = l1.tensor(l1)  # Apply H1 on both qubits\n",
    "opera2 = l2.tensor(l2)\n",
    "\n",
    "# Convert to Operator if needed\n",
    "new_l1 = Operator(opera1)\n",
    "new_l2 = Operator(opera2)\n",
    "\n",
    "# Print the 4x4 lindblads\n",
    "print(\"Operator for X + iY:\")\n",
    "print(new_l1)\n",
    "print(\"Operator for X - iY:\")\n",
    "print(new_l2)\n",
    "\n",
    "# Commutator\n",
    "ham = H @ density_matrix_op - density_matrix_op @ H\n",
    "\n",
    "# Anti-commutator\n",
    "anticomm = new_l2 @ new_l1 @ density_matrix_op + density_matrix_op @ new_l2 @ new_l1\n",
    "\n",
    "# Dissipator\n",
    "dissipator = new_l1 @ density_matrix_op @ new_l2 - 0.5 * anticomm\n",
    "\n",
    "# Print results\n",
    "print(\"Commutator:\")\n",
    "print(ham.data)\n",
    "\n",
    "print(\"Dissipator:\")\n",
    "print(dissipator.data)\n",
    "\n",
    "gamma = 0.5\n",
    "\n",
    "\"\"\"OUR FINAL TIME EVOLUTION DENSITY MATRIX\"\"\"\n",
    "rowdot = -1j* ham + 0.5 * dissipator\n",
    "print(rowdot)"
   ]
  },
  {
   "cell_type": "code",
   "execution_count": null,
   "metadata": {},
   "outputs": [],
   "source": [
    "matrix_elements = [\n",
    "    [ 0.5,  0,  0, 0.5],\n",
    "    [ 0,  0,  0,  0],\n",
    "    [ 0,  0,  0,  0],\n",
    "    [0.5,  0,  0, 0.5]\n",
    "]\n",
    "\n",
    "# Create the DensityMatrix object\n",
    "dd = DensityMatrix(matrix_elements)\n",
    "\n",
    "# Check if it is a valid density matrix\n",
    "print(\"Is density matrix valid? \", dd.is_valid())\n",
    "\n",
    "# Calculate concurrence if valid\n",
    "if dd.is_valid():\n",
    "    c = concurrence(dd)\n",
    "    print(\"Concurrence: \", c)\n",
    "else:\n",
    "    print(\"Invalid density matrix provided.\")"
   ]
  },
  {
   "cell_type": "markdown",
   "metadata": {},
   "source": [
    "### Solver IBM or HOQST"
   ]
  },
  {
   "cell_type": "code",
   "execution_count": null,
   "metadata": {},
   "outputs": [],
   "source": []
  },
  {
   "cell_type": "code",
   "execution_count": null,
   "metadata": {},
   "outputs": [],
   "source": []
  }
 ],
 "metadata": {
  "kernelspec": {
   "display_name": ".venv",
   "language": "python",
   "name": "python3"
  },
  "language_info": {
   "codemirror_mode": {
    "name": "ipython",
    "version": 3
   },
   "file_extension": ".py",
   "mimetype": "text/x-python",
   "name": "python",
   "nbconvert_exporter": "python",
   "pygments_lexer": "ipython3",
   "version": "3.12.3"
  }
 },
 "nbformat": 4,
 "nbformat_minor": 2
}
